{
 "cells": [
  {
   "cell_type": "code",
   "execution_count": 185,
   "id": "0256413f",
   "metadata": {},
   "outputs": [],
   "source": [
    "import numpy as np\n",
    "import pandas as pd\n",
    "import matplotlib.pyplot as plt\n",
    "import random"
   ]
  },
  {
   "cell_type": "code",
   "execution_count": 186,
   "id": "793dfc02",
   "metadata": {},
   "outputs": [],
   "source": [
    "X = np.load('Data/X_reference.npy')\n",
    "y = np.load('Data/y_reference.npy')\n",
    "class_num=0\n",
    "num_each=2000"
   ]
  },
  {
   "cell_type": "code",
   "execution_count": 187,
   "id": "0beeb206",
   "metadata": {},
   "outputs": [
    {
     "name": "stdout",
     "output_type": "stream",
     "text": [
      "[[0.35522984 0.30701063 0.34318911 ... 0.25676307 0.14707421 0.24007765]\n",
      " [0.23345617 0.32298293 0.24379364 ... 0.14759503 0.19269395 0.23601629]\n",
      " [0.20275288 0.28382089 0.30361074 ... 0.0975013  0.15016    0.19614416]\n",
      " ...\n",
      " [0.38041554 0.30664527 0.4541858  ... 0.40751397 0.29672716 0.35193382]\n",
      " [0.38186143 0.25524518 0.20992925 ... 0.43850126 0.39891844 0.46098642]\n",
      " [0.37358719 0.29174137 0.32681815 ... 0.68908333 0.39855016 0.38085587]]\n",
      "(60000,)\n",
      "1.0 0.0 1.0 0.0\n",
      "[ 0.  0.  0. ... 29. 29. 29.]\n"
     ]
    }
   ],
   "source": [
    "print(X)\n",
    "print(y.shape)\n",
    "print(y[2000],y[1999],y[2001],y[1998])\n",
    "print(y)"
   ]
  },
  {
   "cell_type": "code",
   "execution_count": 188,
   "id": "2e79347a",
   "metadata": {},
   "outputs": [],
   "source": [
    "#data generation for 1 bacteria and 1 foreign\n",
    "x_gen = []\n",
    "y_lbl = []\n",
    "for i in range(4):\n",
    "    #with_foreign\n",
    "    for j in range(i*2000, (i+1)*2000):\n",
    "        foreign = np.random.randint(8000, 16000)\n",
    "        cf=random.uniform(0.0,1)\n",
    "        c1=1-cf\n",
    "        x = c1*X[j]+cf*X[foreign]\n",
    "        x_gen.append(x)\n",
    "        yyy=[0.0]*5\n",
    "        yyy[i]=c1\n",
    "        yyy[4]=cf\n",
    "        y_lbl.append(yyy+[class_num])\n",
    "    class_num+=1\n",
    "    #without_foreign\n",
    "    for j in range(i*2000, (i+1)*2000):\n",
    "        x = X[j]\n",
    "        x_gen.append(x)\n",
    "        yyy=[0.0]*5\n",
    "        yyy[i]=c1\n",
    "        y_lbl.append(yyy+[class_num])\n",
    "    class_num+=1\n",
    "xx = np.array(x_gen)\n",
    "yy = np.array(y_lbl)\n",
    "yyc=[]\n",
    "for i in yy:\n",
    "    yyc+=[i[-1]]\n",
    "np.save('Data/y_datagen_for1_withforeign_class', yyc)\n",
    "np.save('Data/X_datagen_for1_withforeign', xx)\n",
    "np.save('Data/y_datagen_for1_withforeign', yy)"
   ]
  },
  {
   "cell_type": "code",
   "execution_count": 189,
   "id": "ec96a7ca",
   "metadata": {},
   "outputs": [
    {
     "name": "stdout",
     "output_type": "stream",
     "text": [
      "[0. 0. 0. ... 7. 7. 7.]\n"
     ]
    }
   ],
   "source": [
    "data1_1=np.load('Data/y_datagen_for1_withforeign_class.npy')\n",
    "data1_2=np.load('Data/X_datagen_for1_withforeign.npy')\n",
    "print(data1_1)"
   ]
  },
  {
   "cell_type": "code",
   "execution_count": 190,
   "id": "7f164f5d",
   "metadata": {},
   "outputs": [],
   "source": [
    "#data generation for 2 bacteria and 1 foreign\n",
    "\n",
    "\n",
    "from itertools import permutations\n",
    "l = list(permutations(range(0, 4)))\n",
    "\n",
    "x_gen = []\n",
    "y_lbl = []\n",
    "for i in range(4):\n",
    "    for j in range(i+1,4):\n",
    "        #with_foreign\n",
    "        for _ in range(num_each):\n",
    "            foreign = np.random.randint(8000, 16000)\n",
    "            first = np.random.randint(i*2000, (i+1)*2000)\n",
    "            second = np.random.randint(j*2000, (j+1)*2000)\n",
    "            cf=random.uniform(0.0,1)\n",
    "            c1 = random.uniform(0.0,1-cf)\n",
    "            c2 = 1 - c1 -cf\n",
    "            conc=[c1,c2,cf]\n",
    "            random.shuffle(conc)\n",
    "            c1,c2,cf=conc[0],conc[1],conc[2]\n",
    "            x = c1*X[first] + c2*X[second] +cf*X[foreign]\n",
    "            x_gen.append(x)\n",
    "            yyy=[0.0]*5\n",
    "            yyy[i]=c1\n",
    "            yyy[j]=c2\n",
    "            yyy[4]=cf\n",
    "            y_lbl.append(yyy+[class_num])\n",
    "        class_num+=1\n",
    "        #without_foreign\n",
    "        for _ in range(num_each):\n",
    "            first = np.random.randint(i*2000, (i+1)*2000)\n",
    "            second = np.random.randint(j*2000, (j+1)*2000)\n",
    "            c1 = random.uniform(0.0,1)\n",
    "            c2 = 1 - c1\n",
    "            conc=[c1,c2]\n",
    "            random.shuffle(conc)\n",
    "            c1,c2=conc[0],conc[1]\n",
    "            x = c1*X[first] + c2*X[second]\n",
    "            x_gen.append(x)\n",
    "            yyy=[0.0]*5\n",
    "            yyy[i]=c1\n",
    "            yyy[j]=c2\n",
    "            y_lbl.append(yyy+[class_num])\n",
    "        class_num+=1\n",
    "xx = np.array(x_gen)\n",
    "yy = np.array(y_lbl)\n",
    "yyc=[]\n",
    "for i in yy:\n",
    "    yyc+=[i[-1]]\n",
    "np.save('Data/y_datagen_for2_withforeign_class', yyc)\n",
    "np.save('Data/X_datagen_for2_withforeign', xx)\n",
    "np.save('Data/y_datagen_for2_withforeign', yy)"
   ]
  },
  {
   "cell_type": "code",
   "execution_count": 191,
   "id": "248d40c7",
   "metadata": {},
   "outputs": [
    {
     "name": "stdout",
     "output_type": "stream",
     "text": [
      "[ 8.  8.  8. ... 19. 19. 19.]\n"
     ]
    }
   ],
   "source": [
    "data2_1=np.load(\"Data/y_datagen_for2_withforeign_class.npy\")\n",
    "data2_2=np.load('Data/X_datagen_for2_withforeign.npy')\n",
    "print(data2_1)"
   ]
  },
  {
   "cell_type": "code",
   "execution_count": 192,
   "id": "7bcbbd35",
   "metadata": {},
   "outputs": [],
   "source": [
    "#data generation for 3 bacteria with 1 foreign\n",
    "\n",
    "\n",
    "from itertools import permutations\n",
    "l = list(permutations(range(0, 4)))\n",
    "\n",
    "x_gen = []\n",
    "y_lbl = []\n",
    "for i in range(4):\n",
    "    for j in range(i+1,4):\n",
    "        for k in range(j+1,4):\n",
    "            #with_foreign\n",
    "            for _ in range(num_each):\n",
    "                foreign = np.random.randint(8000, 16000)\n",
    "                first = np.random.randint(i*2000, (i+1)*2000)\n",
    "                second = np.random.randint(j*2000, (j+1)*2000)\n",
    "                third = np.random.randint(k*2000,(k+1)*2000)\n",
    "                cf=random.uniform(0.0,1)\n",
    "                c1=random.uniform(0.0,1-cf)\n",
    "                c2=random.uniform(0.0,1-c1-cf)\n",
    "                c3=1-c1-c2-cf\n",
    "                conc=[c1,c2,c3,cf]\n",
    "                random.shuffle(conc)\n",
    "                c1,c2,c3,cf=conc[0],conc[1],conc[2],conc[3]\n",
    "                x = c1*X[first] + c2*X[second] + c3*X[third]+cf*X[foreign]\n",
    "                x_gen.append(x)\n",
    "                yyy=[0.0]*5\n",
    "                yyy[i]=c1\n",
    "                yyy[j]=c2\n",
    "                yyy[k]=c3\n",
    "                yyy[4]=cf\n",
    "                y_lbl.append(yyy+[class_num])\n",
    "            class_num+=1\n",
    "            #without_foreign\n",
    "            for _ in range(num_each):\n",
    "                first = np.random.randint(i*2000, (i+1)*2000)\n",
    "                second = np.random.randint(j*2000, (j+1)*2000)\n",
    "                third = np.random.randint(k*2000,(k+1)*2000)\n",
    "                c1=random.uniform(0.0,1)\n",
    "                c2=random.uniform(0.0,1-c1)\n",
    "                c3=1-c1-c2\n",
    "                conc=[c1,c2,c3]\n",
    "                random.shuffle(conc)\n",
    "                c1,c2,c3=conc[0],conc[1],conc[2]\n",
    "                x = c1*X[first] + c2*X[second] + c3*X[third]\n",
    "                x_gen.append(x)\n",
    "                yyy=[0.0]*5\n",
    "                yyy[i]=c1\n",
    "                yyy[j]=c2\n",
    "                yyy[k]=c3\n",
    "                y_lbl.append(yyy+[class_num])\n",
    "            class_num+=1\n",
    "\n",
    "xx = np.array(x_gen)\n",
    "yy = np.array(y_lbl)\n",
    "yyc=[]\n",
    "for i in yy:\n",
    "    yyc+=[i[-1]]\n",
    "np.save('Data/y_datagen_for3_withforeign_class', yyc)\n",
    "np.save('Data/X_datagen_for3_withforeign', xx)\n",
    "np.save('Data/y_datagen_for3_withforeign', yy)"
   ]
  },
  {
   "cell_type": "code",
   "execution_count": 193,
   "id": "8d7c39a1",
   "metadata": {},
   "outputs": [
    {
     "name": "stdout",
     "output_type": "stream",
     "text": [
      "[20. 20. 20. ... 27. 27. 27.]\n"
     ]
    }
   ],
   "source": [
    "data3_1=np.load(\"Data/y_datagen_for3_withforeign_class.npy\")\n",
    "data3_2=np.load('Data/X_datagen_for3_withforeign.npy')\n",
    "print(data3_1)"
   ]
  },
  {
   "cell_type": "code",
   "execution_count": 194,
   "id": "9a18d2da",
   "metadata": {},
   "outputs": [],
   "source": [
    "#data generation for 4 bacteria with 1 foreign\n",
    "\n",
    "\n",
    "from itertools import permutations\n",
    "l = list(permutations(range(0, 4)))\n",
    "\n",
    "x_gen = []\n",
    "y_lbl = []\n",
    "for i in range(4):\n",
    "    for j in range(i+1,4):\n",
    "        for k in range(j+1,4):\n",
    "            for l in range(k+1,4):\n",
    "                #with_foreign\n",
    "                for _ in range(num_each):\n",
    "                    foreign = np.random.randint(8000, 16000)\n",
    "                    first = np.random.randint(i*2000, (i+1)*2000)\n",
    "                    second = np.random.randint(j*2000, (j+1)*2000)\n",
    "                    third = np.random.randint(k*2000,(k+1)*2000)\n",
    "                    fourth = np.random.randint(l*2000,(l+1)*2000)\n",
    "                    cf=random.uniform(0.0,1)\n",
    "                    c1=random.uniform(0.0,1-cf)\n",
    "                    c2=random.uniform(0.0,1-c1-cf)\n",
    "                    c3=random.uniform(0.0,1-c2-c1-cf)\n",
    "                    c4=1-c1-c2-c3-cf\n",
    "                    conc=[c1,c2,c3,c4,cf]\n",
    "                    random.shuffle(conc)\n",
    "                    c1,c2,c3,c4,cf=conc[0],conc[1],conc[2],conc[3],conc[4]\n",
    "                    x = c1*X[first] + c2*X[second] + c3*X[third]+ c4*X[fourth]+cf*X[foreign]\n",
    "                    x_gen.append(x)\n",
    "                    yyy=[0.0]*5\n",
    "                    yyy[i]=c1\n",
    "                    yyy[j]=c2\n",
    "                    yyy[k]=c3\n",
    "                    yyy[l]=c4\n",
    "                    yyy[4]=cf\n",
    "                    y_lbl.append(yyy+[class_num])\n",
    "                class_num+=1\n",
    "                #without_foreign\n",
    "                for _ in range(num_each):\n",
    "                    first = np.random.randint(i*2000, (i+1)*2000)\n",
    "                    second = np.random.randint(j*2000, (j+1)*2000)\n",
    "                    third = np.random.randint(k*2000,(k+1)*2000)\n",
    "                    fourth = np.random.randint(l*2000,(l+1)*2000)\n",
    "                    c1=random.uniform(0.0,1)\n",
    "                    c2=random.uniform(0.0,1-c1)\n",
    "                    c3=random.uniform(0.0,1-c2-c1)\n",
    "                    c4=1-c1-c2-c3\n",
    "                    conc=[c1,c2,c3,c4]\n",
    "                    random.shuffle(conc)\n",
    "                    c1,c2,c3,c4=conc[0],conc[1],conc[2],conc[3]\n",
    "                    x = c1*X[first] + c2*X[second] + c3*X[third]+ c4*X[fourth]\n",
    "                    x_gen.append(x)\n",
    "                    yyy=[0.0]*5\n",
    "                    yyy[i]=c1\n",
    "                    yyy[j]=c2\n",
    "                    yyy[k]=c3\n",
    "                    yyy[l]=c4\n",
    "                    y_lbl.append(yyy+[class_num])\n",
    "                class_num+=1\n",
    "xx = np.array(x_gen)\n",
    "yy = np.array(y_lbl)\n",
    "yyc=[]\n",
    "for i in yy:\n",
    "    yyc+=[i[-1]]\n",
    "np.save('Data/y_datagen_for4_withforeign_class', yyc)\n",
    "np.save('Data/X_datagen_for4_withforeign', xx)\n",
    "np.save('Data/y_datagen_for4_withforeign', yy)"
   ]
  },
  {
   "cell_type": "code",
   "execution_count": 195,
   "id": "6f89dfc4",
   "metadata": {},
   "outputs": [
    {
     "name": "stdout",
     "output_type": "stream",
     "text": [
      "[28. 28. 28. ... 29. 29. 29.]\n"
     ]
    }
   ],
   "source": [
    "data4_1=np.load('Data/y_datagen_for4_withforeign_class.npy')\n",
    "data4_2=np.load('Data/X_datagen_for4_withforeign.npy')\n",
    "print(data4_1)"
   ]
  },
  {
   "cell_type": "code",
   "execution_count": 199,
   "id": "eb446867",
   "metadata": {},
   "outputs": [
    {
     "name": "stdout",
     "output_type": "stream",
     "text": [
      "[[0.29556986 0.28381637 0.30261862 ... 0.3050687  0.16794992 0.24918756]\n",
      " [0.39169162 0.38946491 0.33785144 ... 0.47199899 0.45171341 0.62970055]\n",
      " [0.21996199 0.26525475 0.31075499 ... 0.19474426 0.21922579 0.18761634]\n",
      " ...\n",
      " [0.23207348 0.16856434 0.26191739 ... 0.38763052 0.27080591 0.39754983]\n",
      " [0.21462793 0.27112808 0.18279617 ... 0.26344809 0.28957727 0.33867552]\n",
      " [0.24464102 0.23916119 0.30441345 ... 0.2497406  0.44087268 0.39621531]]\n",
      "[ 0.  0.  0. ... 29. 29. 29.]\n"
     ]
    }
   ],
   "source": [
    "XXfinal=np.vstack((data1_2,data2_2, data3_2,data4_2))\n",
    "yyfinal = np.hstack((data1_1,data2_1, data3_1,data4_1))\n",
    "print(XXfinal)\n",
    "print(yyfinal)\n",
    "np.save('Data/X_datagen_allcomb_foreign_class', XXfinal)\n",
    "np.save('Data/y_datagen_allcomb_foreign_class', yyfinal)"
   ]
  },
  {
   "cell_type": "code",
   "execution_count": 197,
   "id": "f53e0682",
   "metadata": {},
   "outputs": [
    {
     "data": {
      "text/plain": [
       "array([ 0.,  1.,  2.,  3.,  4.,  5.,  6.,  7.,  8.,  9., 10., 11., 12.,\n",
       "       13., 14., 15., 16., 17., 18., 19., 20., 21., 22., 23., 24., 25.,\n",
       "       26., 27., 28., 29.])"
      ]
     },
     "execution_count": 197,
     "metadata": {},
     "output_type": "execute_result"
    }
   ],
   "source": [
    "np.unique(yyfinal)"
   ]
  },
  {
   "cell_type": "code",
   "execution_count": null,
   "id": "db3b4e33",
   "metadata": {},
   "outputs": [],
   "source": []
  },
  {
   "cell_type": "code",
   "execution_count": null,
   "id": "58e36f1c",
   "metadata": {},
   "outputs": [],
   "source": []
  }
 ],
 "metadata": {
  "kernelspec": {
   "display_name": "Python 3 (ipykernel)",
   "language": "python",
   "name": "python3"
  },
  "language_info": {
   "codemirror_mode": {
    "name": "ipython",
    "version": 3
   },
   "file_extension": ".py",
   "mimetype": "text/x-python",
   "name": "python",
   "nbconvert_exporter": "python",
   "pygments_lexer": "ipython3",
   "version": "3.11.4"
  }
 },
 "nbformat": 4,
 "nbformat_minor": 5
}
