{
 "cells": [
  {
   "cell_type": "code",
   "execution_count": 1,
   "id": "b27b9855",
   "metadata": {},
   "outputs": [],
   "source": [
    "import numpy as np\n",
    "import pandas as pd\n",
    "import matplotlib.pyplot as plt\n",
    "import random"
   ]
  },
  {
   "cell_type": "code",
   "execution_count": 2,
   "id": "bc54b43f",
   "metadata": {},
   "outputs": [],
   "source": [
    "X = np.load('Data/X_reference.npy')\n",
    "y = np.load('Data/y_reference.npy')\n",
    "class_num=0\n",
    "num_each=2000"
   ]
  },
  {
   "cell_type": "code",
   "execution_count": 3,
   "id": "5a116fc3",
   "metadata": {},
   "outputs": [
    {
     "name": "stdout",
     "output_type": "stream",
     "text": [
      "[[0.35522984 0.30701063 0.34318911 ... 0.25676307 0.14707421 0.24007765]\n",
      " [0.23345617 0.32298293 0.24379364 ... 0.14759503 0.19269395 0.23601629]\n",
      " [0.20275288 0.28382089 0.30361074 ... 0.0975013  0.15016    0.19614416]\n",
      " ...\n",
      " [0.38041554 0.30664527 0.4541858  ... 0.40751397 0.29672716 0.35193382]\n",
      " [0.38186143 0.25524518 0.20992925 ... 0.43850126 0.39891844 0.46098642]\n",
      " [0.37358719 0.29174137 0.32681815 ... 0.68908333 0.39855016 0.38085587]]\n",
      "(60000,)\n",
      "1.0 0.0 1.0 0.0\n",
      "[ 0.  0.  0. ... 29. 29. 29.]\n"
     ]
    }
   ],
   "source": [
    "print(X)\n",
    "print(y.shape)\n",
    "print(y[2000],y[1999],y[2001],y[1998])\n",
    "print(y)"
   ]
  },
  {
   "cell_type": "code",
   "execution_count": 4,
   "id": "df0df2cb",
   "metadata": {},
   "outputs": [],
   "source": [
    "#data generation for 1 bacteria\n",
    "x_gen = []\n",
    "y_lbl = []\n",
    "for i in range(4):\n",
    "    for j in range(i*2000, (i+1)*2000):\n",
    "        x = X[j]\n",
    "        x_gen.append(x)\n",
    "        yyy=[0.0]*4\n",
    "        yyy[i]=1.0\n",
    "        y_lbl.append(yyy+[class_num])\n",
    "    class_num+=1\n",
    "xx = np.array(x_gen)\n",
    "yy = np.array(y_lbl)\n",
    "np.save('Data/X_datagen_for1', xx)\n",
    "np.save('Data/y_datagen_for1', yy)"
   ]
  },
  {
   "cell_type": "code",
   "execution_count": 11,
   "id": "ba475e93",
   "metadata": {},
   "outputs": [
    {
     "name": "stdout",
     "output_type": "stream",
     "text": [
      "[[1. 0. 0. 0. 0.]\n",
      " [1. 0. 0. 0. 0.]\n",
      " [1. 0. 0. 0. 0.]\n",
      " ...\n",
      " [0. 0. 0. 1. 3.]\n",
      " [0. 0. 0. 1. 3.]\n",
      " [0. 0. 0. 1. 3.]]\n"
     ]
    }
   ],
   "source": [
    "z=np.load('Data/y_datagen_for1.npy')\n",
    "print(z)"
   ]
  },
  {
   "cell_type": "code",
   "execution_count": 5,
   "id": "eb74d488",
   "metadata": {},
   "outputs": [],
   "source": [
    "#data generation for 2 bacteria\n",
    "\n",
    "\n",
    "from itertools import permutations\n",
    "l = list(permutations(range(0, 4)))\n",
    "\n",
    "x_gen = []\n",
    "y_lbl = []\n",
    "for i in range(4):\n",
    "        for j in range(i+1,4):\n",
    "            for _ in range(num_each):\n",
    "                first = np.random.randint(i*2000, (i+1)*2000)\n",
    "                second = np.random.randint(j*2000, (j+1)*2000)\n",
    "                c1 = random.uniform(0.0,1)\n",
    "                c2 = 1 - c1\n",
    "                x = c1*X[first] + c2*X[second]\n",
    "                x_gen.append(x)\n",
    "                yyy=[0.0]*4\n",
    "                yyy[i]=c1\n",
    "                yyy[j]=c2\n",
    "                y_lbl.append(yyy+[class_num])\n",
    "            class_num+=1\n",
    "xx = np.array(x_gen)\n",
    "yy = np.array(y_lbl)\n",
    "np.save('Data/X_datagen_for2', xx)\n",
    "np.save('Data/y_datagen_for2', yy)"
   ]
  },
  {
   "cell_type": "code",
   "execution_count": 12,
   "id": "c1dcf6c8",
   "metadata": {},
   "outputs": [
    {
     "name": "stdout",
     "output_type": "stream",
     "text": [
      "[[0.29143698 0.70856302 0.         0.         4.        ]\n",
      " [0.13816375 0.86183625 0.         0.         4.        ]\n",
      " [0.01490949 0.98509051 0.         0.         4.        ]\n",
      " ...\n",
      " [0.         0.         0.98302472 0.01697528 9.        ]\n",
      " [0.         0.         0.60932618 0.39067382 9.        ]\n",
      " [0.         0.         0.23261505 0.76738495 9.        ]]\n"
     ]
    }
   ],
   "source": [
    "z=np.load(\"Data/y_datagen_for2.npy\")\n",
    "print(z)"
   ]
  },
  {
   "cell_type": "code",
   "execution_count": 7,
   "id": "5381682b",
   "metadata": {},
   "outputs": [],
   "source": [
    "#data generation for 3 bacteria\n",
    "\n",
    "\n",
    "from itertools import permutations\n",
    "l = list(permutations(range(0, 4)))\n",
    "\n",
    "x_gen = []\n",
    "y_lbl = []\n",
    "for i in range(4):\n",
    "    for j in range(i+1,4):\n",
    "        for k in range(j+1,4):\n",
    "            for _ in range(num_each):\n",
    "                first = np.random.randint(i*2000, (i+1)*2000)\n",
    "                second = np.random.randint(j*2000, (j+1)*2000)\n",
    "                third = np.random.randint(k*2000,(k+1)*2000)\n",
    "                c1=random.uniform(0.0,1)\n",
    "                c2=random.uniform(0.0,1-c1)\n",
    "                c3=1-c1-c2\n",
    "                conc=[c1,c2,c3]\n",
    "                random.shuffle(conc)\n",
    "                c1,c2,c3=conc[0],conc[1],conc[2]\n",
    "                x = c1*X[first] + c2*X[second] + c3*X[third]\n",
    "                x_gen.append(x)\n",
    "                yyy=[0.0]*4\n",
    "                yyy[i]=c1\n",
    "                yyy[j]=c2\n",
    "                yyy[k]=c3\n",
    "                y_lbl.append(yyy+[class_num])\n",
    "            class_num+=1\n",
    "xx = np.array(x_gen)\n",
    "yy = np.array(y_lbl)\n",
    "np.save('Data/X_datagen_for3', xx)\n",
    "np.save('Data/y_datagen_for3', yy)"
   ]
  },
  {
   "cell_type": "code",
   "execution_count": 8,
   "id": "665e867f",
   "metadata": {},
   "outputs": [
    {
     "name": "stdout",
     "output_type": "stream",
     "text": [
      "[[ 0.16343975  0.07350855  0.7630517   0.         10.        ]\n",
      " [ 0.45913473  0.47908205  0.06178323  0.         10.        ]\n",
      " [ 0.78954269  0.09894012  0.11151719  0.         10.        ]\n",
      " ...\n",
      " [ 0.          0.1812859   0.34300538  0.47570872 13.        ]\n",
      " [ 0.          0.28150357  0.40481166  0.31368477 13.        ]\n",
      " [ 0.          0.03585395  0.13333726  0.83080878 13.        ]]\n"
     ]
    }
   ],
   "source": [
    "z=np.load(\"Data/y_datagen_for3.npy\")\n",
    "print(z)"
   ]
  },
  {
   "cell_type": "code",
   "execution_count": 9,
   "id": "fc828002",
   "metadata": {},
   "outputs": [],
   "source": [
    "#data generation for 4 bacteria\n",
    "\n",
    "\n",
    "from itertools import permutations\n",
    "l = list(permutations(range(0, 4)))\n",
    "\n",
    "x_gen = []\n",
    "y_lbl = []\n",
    "for i in range(4):\n",
    "    for j in range(i+1,4):\n",
    "        for k in range(j+1,4):\n",
    "            for l in range(k+1,4):\n",
    "                for _ in range(num_each):\n",
    "                    first = np.random.randint(i*2000, (i+1)*2000)\n",
    "                    second = np.random.randint(j*2000, (j+1)*2000)\n",
    "                    third = np.random.randint(k*2000,(k+1)*2000)\n",
    "                    fourth = np.random.randint(l*2000,(l+1)*2000)\n",
    "                    c1=random.uniform(0.0,1)\n",
    "                    c2=random.uniform(0.0,1-c1)\n",
    "                    c3=random.uniform(0.0,1-c2-c1)\n",
    "                    c4=1-c1-c2-c3\n",
    "                    conc=[c1,c2,c3,c4]\n",
    "                    random.shuffle(conc)\n",
    "                    c1,c2,c3,c4=conc[0],conc[1],conc[2],conc[3]\n",
    "                    x = c1*X[first] + c2*X[second] + c3*X[third]+ c4*X[fourth]\n",
    "                    x_gen.append(x)\n",
    "                    yyy=[0.0]*4\n",
    "                    yyy[i]=c1\n",
    "                    yyy[j]=c2\n",
    "                    yyy[k]=c3\n",
    "                    yyy[l]=c4\n",
    "                    y_lbl.append(yyy+[class_num])\n",
    "                class_num+=1\n",
    "xx = np.array(x_gen)\n",
    "yy = np.array(y_lbl)\n",
    "np.save('Data/X_datagen_for4', xx)\n",
    "np.save('Data/y_datagen_for4', yy)"
   ]
  },
  {
   "cell_type": "code",
   "execution_count": 10,
   "id": "df0291dc",
   "metadata": {},
   "outputs": [
    {
     "name": "stdout",
     "output_type": "stream",
     "text": [
      "[[1.18146808e-01 5.01714242e-01 1.65530320e-01 2.14608630e-01\n",
      "  1.40000000e+01]\n",
      " [3.22773244e-01 4.88611839e-01 1.86086588e-01 2.52832911e-03\n",
      "  1.40000000e+01]\n",
      " [4.90115120e-02 6.68367559e-03 9.56646251e-02 8.48640187e-01\n",
      "  1.40000000e+01]\n",
      " ...\n",
      " [2.87367006e-02 6.10818189e-01 1.37926778e-01 2.22518333e-01\n",
      "  1.40000000e+01]\n",
      " [3.91800828e-01 2.35784123e-01 1.75044093e-01 1.97370956e-01\n",
      "  1.40000000e+01]\n",
      " [1.69031553e-02 6.94679307e-03 8.56958721e-02 8.90454179e-01\n",
      "  1.40000000e+01]]\n"
     ]
    }
   ],
   "source": [
    "z=np.load('Data/y_datagen_for4.npy')\n",
    "print(z)"
   ]
  },
  {
   "cell_type": "code",
   "execution_count": 1,
   "id": "3ac32175",
   "metadata": {},
   "outputs": [],
   "source": [
    "# from sklearn.preprocessing import StandardScaler\n",
    "# from sklearn.svm import SVC\n",
    "# from sklearn.ensemble import RandomForestClassifier\n",
    "# import matplotlib.pyplot as plt\n",
    "# from sklearn import metrics\n",
    "# from sklearn.model_selection import train_test_split\n",
    "\n",
    "\n",
    "# # Scaling\n",
    "# scaler = StandardScaler()\n",
    "# # X = scaler.fit_transform(X)\n",
    "\n",
    "# # X is the feature data, y is the target data\n",
    "# X_train, X_test, y_train, y_test = train_test_split(X, y, test_size=0.2, random_state=42)\n",
    "\n",
    "# # Train an SVM model\n",
    "\n",
    "\n",
    "# # clf = SVC(kernel='rbf')\n",
    "# clf = RandomForestClassifier()\n",
    "# clf.fit(X_train, y_train)\n",
    "\n",
    "# print(clf.score(X_test,y_test))\n",
    "\n",
    "# # print(X_test,X_test.shape)\n",
    "\n",
    "# y_pred = clf.predict(X_test)\n",
    "\n",
    "# # Confusion matrix\n",
    "# print(\"Confusion Matrix: \\n\", metrics.confusion_matrix(y_test, y_pred))\n",
    "\n",
    "# # Accuracy\n",
    "# print(\"Accuracy: {:.2f}%\".format(metrics.accuracy_score(y_test, y_pred)*100))\n",
    "\n",
    "\n",
    "\n",
    "\n",
    "\n",
    "\n"
   ]
  },
  {
   "cell_type": "code",
   "execution_count": null,
   "id": "83677eda",
   "metadata": {},
   "outputs": [],
   "source": []
  }
 ],
 "metadata": {
  "kernelspec": {
   "display_name": "Python 3 (ipykernel)",
   "language": "python",
   "name": "python3"
  },
  "language_info": {
   "codemirror_mode": {
    "name": "ipython",
    "version": 3
   },
   "file_extension": ".py",
   "mimetype": "text/x-python",
   "name": "python",
   "nbconvert_exporter": "python",
   "pygments_lexer": "ipython3",
   "version": "3.11.4"
  }
 },
 "nbformat": 4,
 "nbformat_minor": 5
}
