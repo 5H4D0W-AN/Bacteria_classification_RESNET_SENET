{
 "cells": [
  {
   "cell_type": "code",
   "execution_count": 9,
   "id": "1c357501",
   "metadata": {},
   "outputs": [],
   "source": [
    "import numpy as np\n",
    "import pandas as pd\n",
    "import matplotlib.pyplot as plt\n",
    "import random"
   ]
  },
  {
   "cell_type": "code",
   "execution_count": 10,
   "id": "19c2dfab",
   "metadata": {},
   "outputs": [],
   "source": [
    "X = np.load('Data/X_reference.npy')\n",
    "y = np.load('Data/y_reference.npy')\n",
    "class_num=0\n",
    "num_each=2000"
   ]
  },
  {
   "cell_type": "code",
   "execution_count": 11,
   "id": "186d2131",
   "metadata": {},
   "outputs": [],
   "source": [
    "#data generation for 1 bacteria and 1 foreign\n",
    "x_gen = []\n",
    "y_lbl = []\n",
    "for i in range(4):\n",
    "    for j in range(i*2000, (i+1)*2000):\n",
    "        foreign = np.random.randint(16000, 24000)\n",
    "        cf=random.uniform(0.0,1)\n",
    "        c1=1-cf\n",
    "        \n",
    "        x = c1*X[j]+cf*X[foreign]\n",
    "        x_gen.append(x)\n",
    "        yyy=[0.0]*5\n",
    "        yyy[i]=c1\n",
    "        yyy[4]=cf\n",
    "        y_lbl.append(yyy+[class_num])\n",
    "    class_num+=1\n",
    "xx = np.array(x_gen)\n",
    "yy = np.array(y_lbl)\n",
    "np.save('Data/X_datagen_for1_withforeign_validation', xx)\n",
    "np.save('Data/y_datagen_for1_withforeign_validation', yy)"
   ]
  },
  {
   "cell_type": "code",
   "execution_count": 12,
   "id": "ea291993",
   "metadata": {},
   "outputs": [
    {
     "name": "stdout",
     "output_type": "stream",
     "text": [
      "[[0.55846813 0.         0.         0.         0.10408651 0.        ]\n",
      " [0.25919971 0.         0.         0.         0.59799906 0.        ]\n",
      " [0.10514109 0.         0.         0.         0.28203731 0.        ]\n",
      " ...\n",
      " [0.         0.         0.         0.30785488 0.60174292 3.        ]\n",
      " [0.         0.         0.         0.23069647 0.74451049 3.        ]\n",
      " [0.         0.         0.         0.70079496 0.17934883 3.        ]]\n"
     ]
    }
   ],
   "source": [
    "z=np.load('Data/y_datagen_for1_withforeign_validation.npy')\n",
    "print(z)"
   ]
  },
  {
   "cell_type": "code",
   "execution_count": 13,
   "id": "51c46bb7",
   "metadata": {},
   "outputs": [],
   "source": [
    "#data generation for 2 bacteria and 1 foreign\n",
    "\n",
    "\n",
    "from itertools import permutations\n",
    "l = list(permutations(range(0, 4)))\n",
    "\n",
    "x_gen = []\n",
    "y_lbl = []\n",
    "for i in range(4):\n",
    "    for j in range(i+1,4):\n",
    "        for _ in range(num_each):\n",
    "            foreign = np.random.randint(16000, 24000)\n",
    "            first = np.random.randint(i*2000, (i+1)*2000)\n",
    "            second = np.random.randint(j*2000, (j+1)*2000)\n",
    "            cf=random.uniform(0.0,1)\n",
    "            c1 = random.uniform(0.0,1-cf)\n",
    "            c2 = 1 - c1 -cf\n",
    "            conc=[c1,c2,cf]\n",
    "            random.shuffle(conc)\n",
    "            c1,c2,cf=conc[0],conc[1],conc[2]\n",
    "            x = c1*X[first] + c2*X[second] +cf*X[foreign]\n",
    "            x_gen.append(x)\n",
    "            yyy=[0.0]*5\n",
    "            yyy[i]=c1\n",
    "            yyy[j]=c2\n",
    "            yyy[4]=cf\n",
    "            y_lbl.append(yyy+[class_num])\n",
    "        class_num+=1\n",
    "xx = np.array(x_gen)\n",
    "yy = np.array(y_lbl)\n",
    "np.save('Data/X_datagen_for2_withforeign_validation', xx)\n",
    "np.save('Data/y_datagen_for2_withforeign_validation', yy)"
   ]
  },
  {
   "cell_type": "code",
   "execution_count": 14,
   "id": "84aa95f2",
   "metadata": {},
   "outputs": [
    {
     "name": "stdout",
     "output_type": "stream",
     "text": [
      "[[5.53696686e-01 2.77826931e-01 0.00000000e+00 0.00000000e+00\n",
      "  1.68476383e-01 4.00000000e+00]\n",
      " [1.76164865e-01 3.83551316e-01 0.00000000e+00 0.00000000e+00\n",
      "  4.40283818e-01 4.00000000e+00]\n",
      " [4.20745362e-01 9.54914154e-02 0.00000000e+00 0.00000000e+00\n",
      "  4.83763223e-01 4.00000000e+00]\n",
      " ...\n",
      " [0.00000000e+00 0.00000000e+00 9.94932014e-03 9.87078581e-01\n",
      "  2.97209900e-03 9.00000000e+00]\n",
      " [0.00000000e+00 0.00000000e+00 2.83327467e-01 6.71842105e-01\n",
      "  4.48304280e-02 9.00000000e+00]\n",
      " [0.00000000e+00 0.00000000e+00 5.57817557e-02 8.81204383e-01\n",
      "  6.30138614e-02 9.00000000e+00]]\n"
     ]
    }
   ],
   "source": [
    "z=np.load(\"Data/y_datagen_for2_withforeign_validation.npy\")\n",
    "print(z)"
   ]
  },
  {
   "cell_type": "code",
   "execution_count": 16,
   "id": "151d5458",
   "metadata": {},
   "outputs": [],
   "source": [
    "#data generation for 3 bacteria with 1 foreign\n",
    "\n",
    "\n",
    "from itertools import permutations\n",
    "l = list(permutations(range(0, 4)))\n",
    "\n",
    "x_gen = []\n",
    "y_lbl = []\n",
    "for i in range(4):\n",
    "    for j in range(i+1,4):\n",
    "        for k in range(j+1,4):\n",
    "            for _ in range(num_each):\n",
    "                foreign = np.random.randint(16000, 24000)\n",
    "                first = np.random.randint(i*2000, (i+1)*2000)\n",
    "                second = np.random.randint(j*2000, (j+1)*2000)\n",
    "                third = np.random.randint(k*2000,(k+1)*2000)\n",
    "                cf=random.uniform(0.0,1)\n",
    "                c1=random.uniform(0.0,1-cf)\n",
    "                c2=random.uniform(0.0,1-c1-cf)\n",
    "                c3=1-c1-c2-cf\n",
    "                conc=[c1,c2,c3,cf]\n",
    "                random.shuffle(conc)\n",
    "                c1,c2,c3,cf=conc[0],conc[1],conc[2],conc[3]\n",
    "                x = c1*X[first] + c2*X[second] + c3*X[third]+cf*X[foreign]\n",
    "                x_gen.append(x)\n",
    "                yyy=[0.0]*5\n",
    "                yyy[i]=c1\n",
    "                yyy[j]=c2\n",
    "                yyy[k]=c3\n",
    "                yyy[4]=cf\n",
    "                y_lbl.append(yyy+[class_num])\n",
    "            class_num+=1\n",
    "xx = np.array(x_gen)\n",
    "yy = np.array(y_lbl)\n",
    "np.save('Data/X_datagen_for3_withforeign_validation', xx)\n",
    "np.save('Data/y_datagen_for3_withforeign_validation', yy)"
   ]
  },
  {
   "cell_type": "code",
   "execution_count": 17,
   "id": "e97c7199",
   "metadata": {},
   "outputs": [
    {
     "name": "stdout",
     "output_type": "stream",
     "text": [
      "[[9.94174812e-02 5.69520877e-03 8.62676548e-01 0.00000000e+00\n",
      "  3.22107622e-02 1.00000000e+01]\n",
      " [5.73125369e-01 3.92025981e-02 4.19130853e-02 0.00000000e+00\n",
      "  3.45758948e-01 1.00000000e+01]\n",
      " [3.72422575e-01 3.21738976e-02 5.24635926e-01 0.00000000e+00\n",
      "  7.07676013e-02 1.00000000e+01]\n",
      " ...\n",
      " [0.00000000e+00 3.89319359e-01 2.36831803e-01 2.81742861e-01\n",
      "  9.21059769e-02 1.30000000e+01]\n",
      " [0.00000000e+00 1.03247580e-02 2.38334124e-02 9.09070970e-01\n",
      "  5.67708597e-02 1.30000000e+01]\n",
      " [0.00000000e+00 2.24548670e-01 5.66869941e-01 1.88552700e-01\n",
      "  2.00286891e-02 1.30000000e+01]]\n"
     ]
    }
   ],
   "source": [
    "z=np.load(\"Data/y_datagen_for3_withforeign_validation.npy\")\n",
    "print(z)"
   ]
  },
  {
   "cell_type": "code",
   "execution_count": 18,
   "id": "b31aa0f5",
   "metadata": {},
   "outputs": [],
   "source": [
    "#data generation for 4 bacteria with 1 foreign\n",
    "\n",
    "\n",
    "from itertools import permutations\n",
    "l = list(permutations(range(0, 4)))\n",
    "\n",
    "x_gen = []\n",
    "y_lbl = []\n",
    "for i in range(4):\n",
    "    for j in range(i+1,4):\n",
    "        for k in range(j+1,4):\n",
    "            for l in range(k+1,4):\n",
    "                for _ in range(num_each):\n",
    "                    foreign = np.random.randint(16000, 24000)\n",
    "                    first = np.random.randint(i*2000, (i+1)*2000)\n",
    "                    second = np.random.randint(j*2000, (j+1)*2000)\n",
    "                    third = np.random.randint(k*2000,(k+1)*2000)\n",
    "                    fourth = np.random.randint(l*2000,(l+1)*2000)\n",
    "                    cf=random.uniform(0.0,1)\n",
    "                    c1=random.uniform(0.0,1-cf)\n",
    "                    c2=random.uniform(0.0,1-c1-cf)\n",
    "                    c3=random.uniform(0.0,1-c2-c1-cf)\n",
    "                    c4=1-c1-c2-c3-cf\n",
    "                    conc=[c1,c2,c3,c4,cf]\n",
    "                    random.shuffle(conc)\n",
    "                    c1,c2,c3,c4,cf=conc[0],conc[1],conc[2],conc[3],conc[4]\n",
    "                    x = c1*X[first] + c2*X[second] + c3*X[third]+ c4*X[fourth]+cf*X[foreign]\n",
    "                    x_gen.append(x)\n",
    "                    yyy=[0.0]*5\n",
    "                    yyy[i]=c1\n",
    "                    yyy[j]=c2\n",
    "                    yyy[k]=c3\n",
    "                    yyy[l]=c4\n",
    "                    yyy[4]=cf\n",
    "                    y_lbl.append(yyy+[class_num])\n",
    "                class_num+=1\n",
    "xx = np.array(x_gen)\n",
    "yy = np.array(y_lbl)\n",
    "np.save('Data/X_datagen_for4_withforeign_validation', xx)\n",
    "np.save('Data/y_datagen_for4_withforeign_validation', yy)"
   ]
  },
  {
   "cell_type": "code",
   "execution_count": 19,
   "id": "21ea8c42",
   "metadata": {},
   "outputs": [
    {
     "name": "stdout",
     "output_type": "stream",
     "text": [
      "[[3.16767945e-01 7.57956826e-03 2.01288634e-01 4.50111400e-01\n",
      "  2.42524536e-02 1.40000000e+01]\n",
      " [2.45721148e-04 2.16507632e-02 9.78059718e-01 3.12247479e-05\n",
      "  1.25726430e-05 1.40000000e+01]\n",
      " [4.58532620e-01 9.89247034e-02 2.62248971e-01 8.41128912e-02\n",
      "  9.61808141e-02 1.40000000e+01]\n",
      " ...\n",
      " [2.32852449e-02 2.66378403e-01 7.03043178e-01 2.43953634e-03\n",
      "  4.85363728e-03 1.40000000e+01]\n",
      " [8.58122871e-01 3.37102888e-03 7.80445378e-03 1.00457165e-01\n",
      "  3.02444819e-02 1.40000000e+01]\n",
      " [2.28565786e-01 1.16179223e-01 5.07799837e-01 9.64188861e-02\n",
      "  5.10362683e-02 1.40000000e+01]]\n"
     ]
    }
   ],
   "source": [
    "z=np.load('Data/y_datagen_for4_withforeign_validation.npy')\n",
    "print(z)"
   ]
  },
  {
   "cell_type": "code",
   "execution_count": null,
   "id": "310e22ac",
   "metadata": {},
   "outputs": [],
   "source": []
  }
 ],
 "metadata": {
  "kernelspec": {
   "display_name": "Python 3 (ipykernel)",
   "language": "python",
   "name": "python3"
  },
  "language_info": {
   "codemirror_mode": {
    "name": "ipython",
    "version": 3
   },
   "file_extension": ".py",
   "mimetype": "text/x-python",
   "name": "python",
   "nbconvert_exporter": "python",
   "pygments_lexer": "ipython3",
   "version": "3.9.16"
  }
 },
 "nbformat": 4,
 "nbformat_minor": 5
}
