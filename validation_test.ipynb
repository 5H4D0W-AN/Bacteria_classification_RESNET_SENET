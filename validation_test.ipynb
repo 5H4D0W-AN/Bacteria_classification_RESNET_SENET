{
 "cells": [
  {
   "cell_type": "code",
   "execution_count": 1,
   "id": "d99bfaac",
   "metadata": {
    "executionInfo": {
     "elapsed": 4374,
     "status": "ok",
     "timestamp": 1679612967103,
     "user": {
      "displayName": "RAVI KIRAN BANDAKAVI",
      "userId": "02668272438725188121"
     },
     "user_tz": -330
    },
    "id": "MHblc4jFrcU3"
   },
   "outputs": [],
   "source": [
    "import numpy as np\n",
    "from sklearn.model_selection import train_test_split\n",
    "from tensorflow import keras\n",
    "from sklearn.metrics import accuracy_score\n",
    "import tensorflow as tf"
   ]
  },
  {
   "cell_type": "code",
   "execution_count": 2,
   "id": "935c4663",
   "metadata": {
    "executionInfo": {
     "elapsed": 13981,
     "status": "ok",
     "timestamp": 1679613008109,
     "user": {
      "displayName": "RAVI KIRAN BANDAKAVI",
      "userId": "02668272438725188121"
     },
     "user_tz": -330
    },
    "id": "QT07-I1HwTcr"
   },
   "outputs": [],
   "source": [
    "X = np.load('Data/X_datagen_allcomb_foreign_class_fixed_more_latest_validation.npy')\n",
    "y = np.load('Data/y_datagen_allcomb_foreign_hotencoding_fixed_more_latest_validation.npy')"
   ]
  },
  {
   "cell_type": "code",
   "execution_count": 3,
   "id": "f458cbd9",
   "metadata": {
    "colab": {
     "base_uri": "https://localhost:8080/"
    },
    "executionInfo": {
     "elapsed": 6,
     "status": "ok",
     "timestamp": 1679613008110,
     "user": {
      "displayName": "RAVI KIRAN BANDAKAVI",
      "userId": "02668272438725188121"
     },
     "user_tz": -330
    },
    "id": "rh_TRX9bwssj",
    "outputId": "61d6b6b7-1d62-472a-bdfb-31f41b3759cd"
   },
   "outputs": [
    {
     "name": "stdout",
     "output_type": "stream",
     "text": [
      "(180000, 1000)\n",
      "(180000, 5)\n"
     ]
    }
   ],
   "source": [
    "print(X.shape)\n",
    "print(y.shape)"
   ]
  },
  {
   "cell_type": "code",
   "execution_count": 4,
   "id": "07d65cce",
   "metadata": {
    "colab": {
     "base_uri": "https://localhost:8080/"
    },
    "executionInfo": {
     "elapsed": 838,
     "status": "ok",
     "timestamp": 1679613011444,
     "user": {
      "displayName": "RAVI KIRAN BANDAKAVI",
      "userId": "02668272438725188121"
     },
     "user_tz": -330
    },
    "id": "Hb-Yl5o1wtPc",
    "outputId": "db28f8cf-55dc-4812-c4f6-875959ac0310"
   },
   "outputs": [
    {
     "name": "stdout",
     "output_type": "stream",
     "text": [
      "[[0.25119375 0.37721175 0.41184635 ... 0.33290825 0.46742664 0.2065948 ]\n",
      " [0.1305774  0.2217086  0.21456133 ... 0.33408223 0.37867895 0.35890811]\n",
      " [0.26566216 0.27685149 0.25693659 ... 0.21393631 0.27717197 0.27121359]\n",
      " ...\n",
      " [0.32521211 0.26377401 0.35339066 ... 0.46889027 0.36751316 0.46010555]\n",
      " [0.2792028  0.24759356 0.33096443 ... 0.4248202  0.29770028 0.3450426 ]\n",
      " [0.24225477 0.21701619 0.25226966 ... 0.42403007 0.27779614 0.3545274 ]]\n",
      "[[1. 0. 0. 1. 1.]\n",
      " [0. 1. 0. 0. 0.]\n",
      " [1. 1. 1. 1. 1.]\n",
      " [0. 0. 1. 1. 1.]\n",
      " [0. 1. 1. 1. 1.]\n",
      " [0. 0. 0. 1. 1.]\n",
      " [0. 0. 1. 0. 1.]\n",
      " [1. 1. 0. 1. 1.]\n",
      " [1. 1. 1. 0. 1.]\n",
      " [1. 1. 1. 0. 1.]]\n"
     ]
    }
   ],
   "source": [
    "# Split data into training and testing sets\n",
    "X_train, X_test, y_train, y_test = train_test_split(X, y,shuffle=True, test_size=0.2, random_state=42)\n",
    "\n",
    "\n",
    "print(X_train[:10])\n",
    "print(y_train[:10])"
   ]
  },
  {
   "cell_type": "markdown",
   "id": "2cecb526",
   "metadata": {
    "id": "qljcsPl40OBL"
   },
   "source": [
    "# Predicting for first column pure bacteria\n"
   ]
  },
  {
   "cell_type": "code",
   "execution_count": 5,
   "id": "ec4d0a4c",
   "metadata": {
    "executionInfo": {
     "elapsed": 627,
     "status": "ok",
     "timestamp": 1679613845198,
     "user": {
      "displayName": "RAVI KIRAN BANDAKAVI",
      "userId": "02668272438725188121"
     },
     "user_tz": -330
    },
    "id": "Bd7KWVnjM-KT"
   },
   "outputs": [],
   "source": [
    "from keras.models import load_model"
   ]
  },
  {
   "cell_type": "code",
   "execution_count": 6,
   "id": "76a22ca4",
   "metadata": {
    "executionInfo": {
     "elapsed": 739,
     "status": "ok",
     "timestamp": 1679613879201,
     "user": {
      "displayName": "RAVI KIRAN BANDAKAVI",
      "userId": "02668272438725188121"
     },
     "user_tz": -330
    },
    "id": "Pv43Ik0KwjuY"
   },
   "outputs": [],
   "source": [
    "filepath = './Models_individual/model1.h5'\n",
    "model = load_model(filepath)"
   ]
  },
  {
   "cell_type": "code",
   "execution_count": 7,
   "id": "4cf643fd",
   "metadata": {
    "colab": {
     "base_uri": "https://localhost:8080/"
    },
    "executionInfo": {
     "elapsed": 16243,
     "status": "ok",
     "timestamp": 1679614246365,
     "user": {
      "displayName": "RAVI KIRAN BANDAKAVI",
      "userId": "02668272438725188121"
     },
     "user_tz": -330
    },
    "id": "KdAb4Vnoyx4G",
    "outputId": "7df90a27-7082-4bbc-9f5b-f72ca1cfca42"
   },
   "outputs": [],
   "source": [
    "y_tr = model.predict(X_train)\n",
    "y_ts = model.predict(X_test)"
   ]
  },
  {
   "cell_type": "code",
   "execution_count": 8,
   "id": "97e3e6bd",
   "metadata": {
    "executionInfo": {
     "elapsed": 5,
     "status": "ok",
     "timestamp": 1679614248494,
     "user": {
      "displayName": "RAVI KIRAN BANDAKAVI",
      "userId": "02668272438725188121"
     },
     "user_tz": -330
    },
    "id": "n6dVUy2XzJJ0"
   },
   "outputs": [],
   "source": [
    "y_tr = np.where(y_tr.reshape(-1) <0.5, 0,1)\n",
    "y_ts = np.where(y_ts.reshape(-1) <0.5, 0,1)"
   ]
  },
  {
   "cell_type": "code",
   "execution_count": 9,
   "id": "1bcc9e2f",
   "metadata": {
    "colab": {
     "base_uri": "https://localhost:8080/"
    },
    "executionInfo": {
     "elapsed": 6,
     "status": "ok",
     "timestamp": 1679614284562,
     "user": {
      "displayName": "RAVI KIRAN BANDAKAVI",
      "userId": "02668272438725188121"
     },
     "user_tz": -330
    },
    "id": "Ey9Yy71VQA_j",
    "outputId": "0ab56d33-0560-4a0c-af3c-f03c7a78361b"
   },
   "outputs": [
    {
     "name": "stdout",
     "output_type": "stream",
     "text": [
      "train accuracy: 0.9035416666666667\n",
      "test accuracy: 0.9036666666666666\n"
     ]
    }
   ],
   "source": [
    "tr1 = accuracy_score(y_train[:,0],y_tr)\n",
    "ts1 = accuracy_score(y_test[:,0],y_ts)\n",
    "print(\"train accuracy:\",tr1)\n",
    "print(\"test accuracy:\",ts1)"
   ]
  },
  {
   "cell_type": "markdown",
   "id": "46986723",
   "metadata": {
    "id": "DuyXBxM50SRb"
   },
   "source": [
    "# Predicting for second column pure bacteria"
   ]
  },
  {
   "cell_type": "code",
   "execution_count": 10,
   "id": "1479ab56",
   "metadata": {
    "executionInfo": {
     "elapsed": 18,
     "status": "ok",
     "timestamp": 1679615095663,
     "user": {
      "displayName": "RAVI KIRAN BANDAKAVI",
      "userId": "02668272438725188121"
     },
     "user_tz": -330
    },
    "id": "EQR34CPKwc7u"
   },
   "outputs": [],
   "source": [
    "filepath = './Models_individual/model2.h5'\n",
    "model = tf.keras.models.load_model(filepath)"
   ]
  },
  {
   "cell_type": "code",
   "execution_count": 11,
   "id": "0dc1d634",
   "metadata": {
    "colab": {
     "base_uri": "https://localhost:8080/"
    },
    "executionInfo": {
     "elapsed": 14442,
     "status": "ok",
     "timestamp": 1679615110102,
     "user": {
      "displayName": "RAVI KIRAN BANDAKAVI",
      "userId": "02668272438725188121"
     },
     "user_tz": -330
    },
    "id": "s-7BYiZ50dZk",
    "outputId": "cacd1001-4031-404e-a9af-64b7f0361c08"
   },
   "outputs": [],
   "source": [
    "y_tr = model.predict(X_train)\n",
    "y_ts = model.predict(X_test)"
   ]
  },
  {
   "cell_type": "code",
   "execution_count": 12,
   "id": "81a5105f",
   "metadata": {
    "executionInfo": {
     "elapsed": 7,
     "status": "ok",
     "timestamp": 1679615111992,
     "user": {
      "displayName": "RAVI KIRAN BANDAKAVI",
      "userId": "02668272438725188121"
     },
     "user_tz": -330
    },
    "id": "5u7bdmtp0gFy"
   },
   "outputs": [],
   "source": [
    "y_tr = np.where(y_tr.reshape(-1) <0.5, 0,1)\n",
    "y_ts = np.where(y_ts.reshape(-1) <0.5, 0,1)"
   ]
  },
  {
   "cell_type": "code",
   "execution_count": 13,
   "id": "706bb15e",
   "metadata": {
    "colab": {
     "base_uri": "https://localhost:8080/"
    },
    "executionInfo": {
     "elapsed": 5,
     "status": "ok",
     "timestamp": 1679615111993,
     "user": {
      "displayName": "RAVI KIRAN BANDAKAVI",
      "userId": "02668272438725188121"
     },
     "user_tz": -330
    },
    "id": "iK35WgJH0j6z",
    "outputId": "246000ec-4744-4379-f4ee-854ac8aa45d2"
   },
   "outputs": [
    {
     "name": "stdout",
     "output_type": "stream",
     "text": [
      "train accuracy: 0.8764375\n",
      "test accuracy: 0.8794166666666666\n"
     ]
    }
   ],
   "source": [
    "tr2 = accuracy_score(y_train[:,1],y_tr)\n",
    "ts2 = accuracy_score(y_test[:,1],y_ts)\n",
    "print(\"train accuracy:\",tr2)\n",
    "print(\"test accuracy:\",ts2)"
   ]
  },
  {
   "cell_type": "markdown",
   "id": "68d64ae1",
   "metadata": {
    "id": "EKrlrCE40twJ"
   },
   "source": [
    "# Predicting for third column pure bacteria"
   ]
  },
  {
   "cell_type": "code",
   "execution_count": 14,
   "id": "5a1606f6",
   "metadata": {
    "colab": {
     "base_uri": "https://localhost:8080/"
    },
    "executionInfo": {
     "elapsed": 13877,
     "status": "ok",
     "timestamp": 1679615822080,
     "user": {
      "displayName": "RAVI KIRAN BANDAKAVI",
      "userId": "02668272438725188121"
     },
     "user_tz": -330
    },
    "id": "Cih_AOhx166p",
    "outputId": "a0ad4947-b526-4085-d3fd-6d342a623127"
   },
   "outputs": [
    {
     "name": "stdout",
     "output_type": "stream",
     "text": [
      "train accuracy: 0.7583402777777778\n",
      "test accuracy: 0.7569166666666667\n"
     ]
    }
   ],
   "source": [
    "filepath = './Models_individual/model3.h5'\n",
    "model = load_model(filepath)\n",
    "y_tr = model.predict(X_train)\n",
    "y_ts = model.predict(X_test)\n",
    "y_tr = np.where(y_tr.reshape(-1) <0.5, 0,1)\n",
    "y_ts = np.where(y_ts.reshape(-1) <0.5, 0,1)\n",
    "tr3 = accuracy_score(y_train[:,2],y_tr)\n",
    "ts3 = accuracy_score(y_test[:,2],y_ts)\n",
    "print(\"train accuracy:\",tr3)\n",
    "print(\"test accuracy:\",ts3)"
   ]
  },
  {
   "cell_type": "markdown",
   "id": "a056d42c",
   "metadata": {
    "id": "GQv5ZH0T1JbO"
   },
   "source": [
    "# Predicting for fourth column bacteria"
   ]
  },
  {
   "cell_type": "code",
   "execution_count": 16,
   "id": "1c0c7212",
   "metadata": {
    "colab": {
     "base_uri": "https://localhost:8080/"
    },
    "executionInfo": {
     "elapsed": 15281,
     "status": "ok",
     "timestamp": 1679616581856,
     "user": {
      "displayName": "RAVI KIRAN BANDAKAVI",
      "userId": "02668272438725188121"
     },
     "user_tz": -330
    },
    "id": "SjEJ3PCm1uYh",
    "outputId": "d5cb6a24-7414-4d92-bbf3-78f57ed69e99"
   },
   "outputs": [
    {
     "name": "stdout",
     "output_type": "stream",
     "text": [
      "train accuracy: 0.759875\n",
      "test accuracy: 0.75975\n"
     ]
    }
   ],
   "source": [
    "filepath = './Models_individual/model4.h5'\n",
    "model = load_model(filepath)\n",
    "y_tr = model.predict(X_train)\n",
    "y_ts = model.predict(X_test)\n",
    "y_tr = np.where(y_tr.reshape(-1) <0.5, 0,1)\n",
    "y_ts = np.where(y_ts.reshape(-1) <0.5, 0,1)\n",
    "tr4 = accuracy_score(y_train[:,3],y_tr)\n",
    "ts4 = accuracy_score(y_test[:,3],y_ts)\n",
    "print(\"train accuracy:\",tr4)\n",
    "print(\"test accuracy:\",ts4)"
   ]
  },
  {
   "cell_type": "code",
   "execution_count": null,
   "id": "5cabb206",
   "metadata": {},
   "outputs": [],
   "source": []
  },
  {
   "cell_type": "code",
   "execution_count": null,
   "id": "2f6151d7",
   "metadata": {},
   "outputs": [],
   "source": []
  }
 ],
 "metadata": {
  "kernelspec": {
   "display_name": "Python 3 (ipykernel)",
   "language": "python",
   "name": "python3"
  },
  "language_info": {
   "codemirror_mode": {
    "name": "ipython",
    "version": 3
   },
   "file_extension": ".py",
   "mimetype": "text/x-python",
   "name": "python",
   "nbconvert_exporter": "python",
   "pygments_lexer": "ipython3",
   "version": "3.9.16"
  }
 },
 "nbformat": 4,
 "nbformat_minor": 5
}
