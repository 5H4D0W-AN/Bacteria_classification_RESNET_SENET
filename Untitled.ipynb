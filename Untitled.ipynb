{
 "cells": [
  {
   "cell_type": "markdown",
   "id": "661709f0",
   "metadata": {},
   "source": [
    "<head> nehra </head>\n",
    "<body> xdmtsrgrgyxftny </body>\n"
   ]
  },
  {
   "cell_type": "markdown",
   "id": "409fa2bb",
   "metadata": {},
   "source": [
    "<html>\n",
    "<head> hjh </head>\n",
    "</html>"
   ]
  },
  {
   "cell_type": "code",
   "execution_count": null,
   "id": "69c2cc34",
   "metadata": {},
   "outputs": [],
   "source": []
  }
 ],
 "metadata": {
  "kernelspec": {
   "display_name": "Python 3 (ipykernel)",
   "language": "python",
   "name": "python3"
  },
  "language_info": {
   "codemirror_mode": {
    "name": "ipython",
    "version": 3
   },
   "file_extension": ".py",
   "mimetype": "text/x-python",
   "name": "python",
   "nbconvert_exporter": "python",
   "pygments_lexer": "ipython3",
   "version": "3.11.4"
  }
 },
 "nbformat": 4,
 "nbformat_minor": 5
}
